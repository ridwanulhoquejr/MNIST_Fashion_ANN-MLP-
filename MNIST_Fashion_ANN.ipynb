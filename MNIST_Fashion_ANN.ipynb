{
  "nbformat": 4,
  "nbformat_minor": 0,
  "metadata": {
    "colab": {
      "name": "MNIST_Fashion_ANN.ipynb",
      "provenance": [],
      "collapsed_sections": [],
      "authorship_tag": "ABX9TyP6I1i1VwuJx3f9Fsn0LASm",
      "include_colab_link": true
    },
    "kernelspec": {
      "name": "python3",
      "display_name": "Python 3"
    },
    "language_info": {
      "name": "python"
    }
  },
  "cells": [
    {
      "cell_type": "markdown",
      "metadata": {
        "id": "view-in-github",
        "colab_type": "text"
      },
      "source": [
        "<a href=\"https://colab.research.google.com/github/ridwanulhoquejr/MNIST_Fashion_ANN-MLP-/blob/main/MNIST_Fashion_ANN.ipynb\" target=\"_parent\"><img src=\"https://colab.research.google.com/assets/colab-badge.svg\" alt=\"Open In Colab\"/></a>"
      ]
    },
    {
      "cell_type": "markdown",
      "metadata": {
        "id": "aMy6E9GPszt9"
      },
      "source": [
        " ### Problem statement : Multilayer Perceptron Implementation for Image Classification"
      ]
    },
    {
      "cell_type": "markdown",
      "metadata": {
        "id": "ZZgFS9Jxrv04"
      },
      "source": [
        "### Data Description : \n",
        "\n",
        "> It is a dataset of 60,000 small rectangular 28x28 pixel grayscale pictures of items from ten different categories of apparel, including shoes, t-shirts, dresses, and more. The following table shows the mapping of all 0-9 numbers to class labels.\n",
        "\n",
        "\n",
        "\n",
        "    0: T-shirt/top\n",
        "    1: Trouser\n",
        "    2: Pullover\n",
        "    3: Dress\n",
        "    4: Coat\n",
        "    5: Sandal\n",
        "    6: Shirt\n",
        "    7: Sneaker\n",
        "    8: Bag\n",
        "    9: Ankle boot\n"
      ]
    },
    {
      "cell_type": "code",
      "metadata": {
        "id": "IfnG2jIBueNy"
      },
      "source": [
        "import tensorflow as tf\n",
        "from tensorflow.keras.layers import Dense, Activation, Dropout\n",
        "from tensorflow.keras.models import Model\n",
        "import matplotlib.pyplot as plt\n",
        "import numpy as np"
      ],
      "execution_count": 56,
      "outputs": []
    },
    {
      "cell_type": "code",
      "metadata": {
        "id": "y0Qhq27KvEWr"
      },
      "source": [
        "mnist_fashion = tf.keras.datasets.fashion_mnist\n",
        "\n",
        "(xtrain, ytrain), (xtest, ytest) = mnist_fashion.load_data()\n"
      ],
      "execution_count": 23,
      "outputs": []
    },
    {
      "cell_type": "code",
      "metadata": {
        "colab": {
          "base_uri": "https://localhost:8080/"
        },
        "id": "_TgixdRJvL1r",
        "outputId": "b405c5cc-d9ca-4ff8-96c6-316caf0add21"
      },
      "source": [
        "xtrain.shape, xtest.shape"
      ],
      "execution_count": 24,
      "outputs": [
        {
          "output_type": "execute_result",
          "data": {
            "text/plain": [
              "((60000, 28, 28), (10000, 28, 28))"
            ]
          },
          "metadata": {},
          "execution_count": 24
        }
      ]
    },
    {
      "cell_type": "code",
      "metadata": {
        "colab": {
          "base_uri": "https://localhost:8080/"
        },
        "id": "FhI0DNpDvLzD",
        "outputId": "439be81f-e58e-4758-93ff-553c808fcf07"
      },
      "source": [
        "ytrain.shape"
      ],
      "execution_count": 25,
      "outputs": [
        {
          "output_type": "execute_result",
          "data": {
            "text/plain": [
              "(60000,)"
            ]
          },
          "metadata": {},
          "execution_count": 25
        }
      ]
    },
    {
      "cell_type": "code",
      "metadata": {
        "colab": {
          "base_uri": "https://localhost:8080/"
        },
        "id": "j3ubEp5Gdhf2",
        "outputId": "919e76f2-b472-474b-fd31-973235ee19ae"
      },
      "source": [
        "k = len(set(ytrain))\n",
        "print('Number of classes :',k)"
      ],
      "execution_count": 33,
      "outputs": [
        {
          "output_type": "stream",
          "name": "stdout",
          "text": [
            "Number of classes : 10\n"
          ]
        }
      ]
    },
    {
      "cell_type": "code",
      "metadata": {
        "colab": {
          "base_uri": "https://localhost:8080/"
        },
        "id": "wmYAnPXBvLv0",
        "outputId": "5d756b7a-beb2-4bf2-de00-71bfb81ec626"
      },
      "source": [
        "unique, counts = np.unique(ytrain, return_counts=True)\n",
        "print(\"Occurrence of Train labels: \", dict(zip(unique, counts)))"
      ],
      "execution_count": 26,
      "outputs": [
        {
          "output_type": "stream",
          "name": "stdout",
          "text": [
            "Train labels:  {0: 6000, 1: 6000, 2: 6000, 3: 6000, 4: 6000, 5: 6000, 6: 6000, 7: 6000, 8: 6000, 9: 6000}\n"
          ]
        }
      ]
    },
    {
      "cell_type": "code",
      "metadata": {
        "colab": {
          "base_uri": "https://localhost:8080/"
        },
        "id": "qks3o6LRvEM-",
        "outputId": "b9e869dc-ac0b-49d6-9326-51ec7a4c6b19"
      },
      "source": [
        "unique, counts = np.unique(ytest, return_counts=True)\n",
        "print(\"Occurrence of Test labels: \", dict(zip(unique, counts)))"
      ],
      "execution_count": 27,
      "outputs": [
        {
          "output_type": "stream",
          "name": "stdout",
          "text": [
            "Test labels:  {0: 1000, 1: 1000, 2: 1000, 3: 1000, 4: 1000, 5: 1000, 6: 1000, 7: 1000, 8: 1000, 9: 1000}\n"
          ]
        }
      ]
    },
    {
      "cell_type": "code",
      "metadata": {
        "colab": {
          "base_uri": "https://localhost:8080/"
        },
        "id": "ODx3UOdsvz8e",
        "outputId": "bcbe604e-e7de-4dc7-86fb-60bd855afe33"
      },
      "source": [
        "ran_images = np.random.randint(0, 60000, size=25)\n",
        "ran_images"
      ],
      "execution_count": 28,
      "outputs": [
        {
          "output_type": "execute_result",
          "data": {
            "text/plain": [
              "array([37236, 40499, 36539, 17254, 44256, 45146, 21689, 47947, 39701,\n",
              "       46197,  5520, 14521, 22930,  9321, 37329, 39832, 56799, 21086,\n",
              "       41363,  8889, 25972, 34519, 49961, 57784, 10071])"
            ]
          },
          "metadata": {},
          "execution_count": 28
        }
      ]
    },
    {
      "cell_type": "code",
      "metadata": {
        "id": "OiV1RZ4PwygA"
      },
      "source": [
        "images = xtrain[ran_images]"
      ],
      "execution_count": 29,
      "outputs": []
    },
    {
      "cell_type": "code",
      "metadata": {
        "colab": {
          "base_uri": "https://localhost:8080/",
          "height": 575
        },
        "id": "Yp7HkSDgwycv",
        "outputId": "19fb484f-b063-4156-b883-0f412da90a14"
      },
      "source": [
        "plt.figure(figsize=(10,10))\n",
        "for i in range(len(ran_images)):\n",
        "    plt.subplot(5, 5, i+1)\n",
        "    image = images[i]\n",
        "    plt.imshow(image, cmap='gray')\n",
        "    plt.axis('off')\n",
        "    \n",
        "plt.show()\n"
      ],
      "execution_count": 32,
      "outputs": [
        {
          "output_type": "display_data",
          "data": {
            "image/png": "[encoded data removed]",
            "text/plain": [
              "<Figure size 720x720 with 25 Axes>"
            ]
          },
          "metadata": {
            "needs_background": "light"
          }
        }
      ]
    },
    {
      "cell_type": "code",
      "metadata": {
        "colab": {
          "base_uri": "https://localhost:8080/"
        },
        "id": "dHkwj5JWxfjM",
        "outputId": "697a6dd3-d4e1-4f6b-c577-af4c26da4861"
      },
      "source": [
        "ytest[:9]"
      ],
      "execution_count": 31,
      "outputs": [
        {
          "output_type": "execute_result",
          "data": {
            "text/plain": [
              "array([9, 2, 1, 1, 6, 1, 4, 6, 5], dtype=uint8)"
            ]
          },
          "metadata": {},
          "execution_count": 31
        }
      ]
    },
    {
      "cell_type": "code",
      "metadata": {
        "colab": {
          "base_uri": "https://localhost:8080/"
        },
        "id": "NhvITSVlZQ_Q",
        "outputId": "9ebb2599-c085-44de-d032-bbf3e6475b06"
      },
      "source": [
        "xtrain.shape, ytrain.shape"
      ],
      "execution_count": 34,
      "outputs": [
        {
          "output_type": "execute_result",
          "data": {
            "text/plain": [
              "((60000, 28, 28), (60000,))"
            ]
          },
          "metadata": {},
          "execution_count": 34
        }
      ]
    },
    {
      "cell_type": "code",
      "metadata": {
        "colab": {
          "base_uri": "https://localhost:8080/"
        },
        "id": "zKhv68hxeHb-",
        "outputId": "28422701-dfc2-4f7e-b85d-f075ade189b4"
      },
      "source": [
        "xtrain[:10]"
      ],
      "execution_count": 35,
      "outputs": [
        {
          "output_type": "execute_result",
          "data": {
            "text/plain": [
              "array([[[  0,   0,   0, ...,   0,   0,   0],\n",
              "        [  0,   0,   0, ...,   0,   0,   0],\n",
              "        [  0,   0,   0, ...,   0,   0,   0],\n",
              "        ...,\n",
              "        [  0,   0,   0, ...,   0,   0,   0],\n",
              "        [  0,   0,   0, ...,   0,   0,   0],\n",
              "        [  0,   0,   0, ...,   0,   0,   0]],\n",
              "\n",
              "       [[  0,   0,   0, ...,   0,   0,   0],\n",
              "        [  0,   0,   0, ...,   0,   0,   0],\n",
              "        [  0,   0,   0, ...,   0,   0,   0],\n",
              "        ...,\n",
              "        [  0,   0,   0, ...,   0,   0,   0],\n",
              "        [  0,   0,   0, ...,   0,   0,   0],\n",
              "        [  0,   0,   0, ...,   0,   0,   0]],\n",
              "\n",
              "       [[  0,   0,   0, ...,   0,   0,   0],\n",
              "        [  0,   0,   0, ...,   0,   0,   0],\n",
              "        [  0,   0,   0, ...,   0,   0,   0],\n",
              "        ...,\n",
              "        [  0,   0,   0, ...,   0,   0,   0],\n",
              "        [  0,   0,   0, ...,   0,   0,   0],\n",
              "        [  0,   0,   0, ...,   0,   0,   0]],\n",
              "\n",
              "       ...,\n",
              "\n",
              "       [[  0,   0,   0, ...,   0,   0,   0],\n",
              "        [  0,   0,   0, ...,   0,   0,   0],\n",
              "        [  0,   0,   0, ...,   0,   0,   0],\n",
              "        ...,\n",
              "        [  0,   0,   0, ..., 180,   0,   0],\n",
              "        [  0,   0,   0, ...,  72,   0,   0],\n",
              "        [  0,   0,   0, ...,  70,   0,   0]],\n",
              "\n",
              "       [[  0,   0,   0, ...,   0,   0,   0],\n",
              "        [  0,   0,   0, ...,   0,   0,   0],\n",
              "        [  0,   0,   0, ...,  39,   1,   0],\n",
              "        ...,\n",
              "        [  0,   0,   0, ..., 238,   0,   0],\n",
              "        [  0,   0,   0, ..., 131,   0,   0],\n",
              "        [  0,   0,   0, ...,   0,   0,   0]],\n",
              "\n",
              "       [[  0,   0,   0, ...,   0,   0,   0],\n",
              "        [  0,   0,   0, ...,   0,   0,   0],\n",
              "        [  0,   0,   0, ...,   7,   0,   0],\n",
              "        ...,\n",
              "        [  0,   0,   0, ...,   0,   9,   0],\n",
              "        [  0,   0,   0, ...,   0,   3,   0],\n",
              "        [  0,   0,   0, ...,   0,   0,   0]]], dtype=uint8)"
            ]
          },
          "metadata": {},
          "execution_count": 35
        }
      ]
    },
    {
      "cell_type": "markdown",
      "metadata": {
        "id": "rBNmLdGVeQLr"
      },
      "source": [
        "##Normalize data\n",
        "\n",
        " Now we have to normalize our `xtrain` and `xtest` data."
      ]
    },
    {
      "cell_type": "code",
      "metadata": {
        "id": "mP0bVvSueKk9"
      },
      "source": [
        "xtrain = xtrain / 255.0\n",
        "xtest = xtest / 255.0"
      ],
      "execution_count": 36,
      "outputs": []
    },
    {
      "cell_type": "code",
      "metadata": {
        "colab": {
          "base_uri": "https://localhost:8080/"
        },
        "id": "5Dr-yrOofk_K",
        "outputId": "57e13c14-5f50-4223-e090-d48fa2caed94"
      },
      "source": [
        "xtrain[:10]"
      ],
      "execution_count": 40,
      "outputs": [
        {
          "output_type": "execute_result",
          "data": {
            "text/plain": [
              "array([[[0.        , 0.        , 0.        , ..., 0.        ,\n",
              "         0.        , 0.        ],\n",
              "        [0.        , 0.        , 0.        , ..., 0.        ,\n",
              "         0.        , 0.        ],\n",
              "        [0.        , 0.        , 0.        , ..., 0.        ,\n",
              "         0.        , 0.        ],\n",
              "        ...,\n",
              "        [0.        , 0.        , 0.        , ..., 0.        ,\n",
              "         0.        , 0.        ],\n",
              "        [0.        , 0.        , 0.        , ..., 0.        ,\n",
              "         0.        , 0.        ],\n",
              "        [0.        , 0.        , 0.        , ..., 0.        ,\n",
              "         0.        , 0.        ]],\n",
              "\n",
              "       [[0.        , 0.        , 0.        , ..., 0.        ,\n",
              "         0.        , 0.        ],\n",
              "        [0.        , 0.        , 0.        , ..., 0.        ,\n",
              "         0.        , 0.        ],\n",
              "        [0.        , 0.        , 0.        , ..., 0.        ,\n",
              "         0.        , 0.        ],\n",
              "        ...,\n",
              "        [0.        , 0.        , 0.        , ..., 0.        ,\n",
              "         0.        , 0.        ],\n",
              "        [0.        , 0.        , 0.        , ..., 0.        ,\n",
              "         0.        , 0.        ],\n",
              "        [0.        , 0.        , 0.        , ..., 0.        ,\n",
              "         0.        , 0.        ]],\n",
              "\n",
              "       [[0.        , 0.        , 0.        , ..., 0.        ,\n",
              "         0.        , 0.        ],\n",
              "        [0.        , 0.        , 0.        , ..., 0.        ,\n",
              "         0.        , 0.        ],\n",
              "        [0.        , 0.        , 0.        , ..., 0.        ,\n",
              "         0.        , 0.        ],\n",
              "        ...,\n",
              "        [0.        , 0.        , 0.        , ..., 0.        ,\n",
              "         0.        , 0.        ],\n",
              "        [0.        , 0.        , 0.        , ..., 0.        ,\n",
              "         0.        , 0.        ],\n",
              "        [0.        , 0.        , 0.        , ..., 0.        ,\n",
              "         0.        , 0.        ]],\n",
              "\n",
              "       ...,\n",
              "\n",
              "       [[0.        , 0.        , 0.        , ..., 0.        ,\n",
              "         0.        , 0.        ],\n",
              "        [0.        , 0.        , 0.        , ..., 0.        ,\n",
              "         0.        , 0.        ],\n",
              "        [0.        , 0.        , 0.        , ..., 0.        ,\n",
              "         0.        , 0.        ],\n",
              "        ...,\n",
              "        [0.        , 0.        , 0.        , ..., 0.70588235,\n",
              "         0.        , 0.        ],\n",
              "        [0.        , 0.        , 0.        , ..., 0.28235294,\n",
              "         0.        , 0.        ],\n",
              "        [0.        , 0.        , 0.        , ..., 0.2745098 ,\n",
              "         0.        , 0.        ]],\n",
              "\n",
              "       [[0.        , 0.        , 0.        , ..., 0.        ,\n",
              "         0.        , 0.        ],\n",
              "        [0.        , 0.        , 0.        , ..., 0.        ,\n",
              "         0.        , 0.        ],\n",
              "        [0.        , 0.        , 0.        , ..., 0.15294118,\n",
              "         0.00392157, 0.        ],\n",
              "        ...,\n",
              "        [0.        , 0.        , 0.        , ..., 0.93333333,\n",
              "         0.        , 0.        ],\n",
              "        [0.        , 0.        , 0.        , ..., 0.51372549,\n",
              "         0.        , 0.        ],\n",
              "        [0.        , 0.        , 0.        , ..., 0.        ,\n",
              "         0.        , 0.        ]],\n",
              "\n",
              "       [[0.        , 0.        , 0.        , ..., 0.        ,\n",
              "         0.        , 0.        ],\n",
              "        [0.        , 0.        , 0.        , ..., 0.        ,\n",
              "         0.        , 0.        ],\n",
              "        [0.        , 0.        , 0.        , ..., 0.02745098,\n",
              "         0.        , 0.        ],\n",
              "        ...,\n",
              "        [0.        , 0.        , 0.        , ..., 0.        ,\n",
              "         0.03529412, 0.        ],\n",
              "        [0.        , 0.        , 0.        , ..., 0.        ,\n",
              "         0.01176471, 0.        ],\n",
              "        [0.        , 0.        , 0.        , ..., 0.        ,\n",
              "         0.        , 0.        ]]])"
            ]
          },
          "metadata": {},
          "execution_count": 40
        }
      ]
    },
    {
      "cell_type": "code",
      "metadata": {
        "colab": {
          "base_uri": "https://localhost:8080/"
        },
        "id": "XjAVFnw7gAUh",
        "outputId": "861a24f8-1745-41d4-91a9-1fb8483e3643"
      },
      "source": [
        "xtrain[1].shape"
      ],
      "execution_count": 42,
      "outputs": [
        {
          "output_type": "execute_result",
          "data": {
            "text/plain": [
              "(28, 28)"
            ]
          },
          "metadata": {},
          "execution_count": 42
        }
      ]
    },
    {
      "cell_type": "markdown",
      "metadata": {
        "id": "rrJ8uiaahzMK"
      },
      "source": [
        "## flatten the images into 28*28 = 784\n",
        "\n",
        "Our image size is 28 by 28 matrix which is height and width of  an image and there is no RGB channel cause our images are in `GreyScale`.\n",
        "\n",
        "So, now we have to Flatten our 28 * 28 matrix into 1 Dimentional feature vector."
      ]
    },
    {
      "cell_type": "code",
      "metadata": {
        "id": "hC9DJZ_jhiD3"
      },
      "source": [
        "xtrain = xtrain.reshape(len(xtrain), 28* 28)\n",
        "xtest = xtest.reshape(len(xtest), 28*28)"
      ],
      "execution_count": 43,
      "outputs": []
    },
    {
      "cell_type": "code",
      "metadata": {
        "colab": {
          "base_uri": "https://localhost:8080/"
        },
        "id": "ZwS7TvwFkIRG",
        "outputId": "0e051692-a74b-4f3d-ba5d-7a54764a47fd"
      },
      "source": [
        "xtrain.shape, xtest.shape"
      ],
      "execution_count": 44,
      "outputs": [
        {
          "output_type": "execute_result",
          "data": {
            "text/plain": [
              "((60000, 784), (10000, 784))"
            ]
          },
          "metadata": {},
          "execution_count": 44
        }
      ]
    },
    {
      "cell_type": "code",
      "metadata": {
        "colab": {
          "base_uri": "https://localhost:8080/"
        },
        "id": "zVUFTEj2lPle",
        "outputId": "4f1c2a39-1e0d-44cf-c648-eb0ae83c8097"
      },
      "source": [
        "model = tf.keras.Sequential()\n",
        "\n",
        "#Hidden Layers\n",
        "model.add(Dense(32, input_dim=784))\n",
        "model.add(Activation('relu'))\n",
        "\n",
        "model.add(Dense(64))\n",
        "model.add(Activation('relu'))\n",
        "\n",
        "model.add(Dense(128))\n",
        "model.add(Activation('relu'))\n",
        "\n",
        "#Output Layer\n",
        "model.add(Dense(k))\n",
        "model.add(Activation('softmax'))\n",
        "model.summary()"
      ],
      "execution_count": 58,
      "outputs": [
        {
          "output_type": "stream",
          "name": "stdout",
          "text": [
            "Model: \"sequential_4\"\n",
            "_________________________________________________________________\n",
            "Layer (type)                 Output Shape              Param #   \n",
            "=================================================================\n",
            "dense_6 (Dense)              (None, 32)                25120     \n",
            "_________________________________________________________________\n",
            "activation_4 (Activation)    (None, 32)                0         \n",
            "_________________________________________________________________\n",
            "dense_7 (Dense)              (None, 64)                2112      \n",
            "_________________________________________________________________\n",
            "activation_5 (Activation)    (None, 64)                0         \n",
            "_________________________________________________________________\n",
            "dense_8 (Dense)              (None, 128)               8320      \n",
            "_________________________________________________________________\n",
            "activation_6 (Activation)    (None, 128)               0         \n",
            "_________________________________________________________________\n",
            "dense_9 (Dense)              (None, 10)                1290      \n",
            "_________________________________________________________________\n",
            "activation_7 (Activation)    (None, 10)                0         \n",
            "=================================================================\n",
            "Total params: 36,842\n",
            "Trainable params: 36,842\n",
            "Non-trainable params: 0\n",
            "_________________________________________________________________\n"
          ]
        }
      ]
    },
    {
      "cell_type": "code",
      "metadata": {
        "colab": {
          "base_uri": "https://localhost:8080/"
        },
        "id": "NO9CPI4YlPb3",
        "outputId": "4a472328-abab-4f0f-a571-ee0bd1ba5bbc"
      },
      "source": [
        "model.compile(optimizer='adam',\n",
        "              loss='sparse_categorical_crossentropy',\n",
        "              metrics=['accuracy'])\n",
        "\n",
        "r = model.fit(xtrain, \n",
        "              ytrain, \n",
        "              validation_data=(xtest, ytest), \n",
        "              epochs=20, \n",
        "              batch_size=64)"
      ],
      "execution_count": 59,
      "outputs": [
        {
          "output_type": "stream",
          "name": "stdout",
          "text": [
            "Epoch 1/20\n",
            "938/938 [==============================] - 2s 2ms/step - loss: 0.5492 - accuracy: 0.8049 - val_loss: 0.4339 - val_accuracy: 0.8417\n",
            "Epoch 2/20\n",
            "938/938 [==============================] - 2s 2ms/step - loss: 0.3942 - accuracy: 0.8551 - val_loss: 0.4116 - val_accuracy: 0.8505\n",
            "Epoch 3/20\n",
            "938/938 [==============================] - 2s 2ms/step - loss: 0.3588 - accuracy: 0.8697 - val_loss: 0.4277 - val_accuracy: 0.8435\n",
            "Epoch 4/20\n",
            "938/938 [==============================] - 2s 2ms/step - loss: 0.3381 - accuracy: 0.8743 - val_loss: 0.3745 - val_accuracy: 0.8628\n",
            "Epoch 5/20\n",
            "938/938 [==============================] - 2s 2ms/step - loss: 0.3193 - accuracy: 0.8816 - val_loss: 0.3717 - val_accuracy: 0.8628\n",
            "Epoch 6/20\n",
            "938/938 [==============================] - 2s 2ms/step - loss: 0.3078 - accuracy: 0.8855 - val_loss: 0.3637 - val_accuracy: 0.8675\n",
            "Epoch 7/20\n",
            "938/938 [==============================] - 2s 2ms/step - loss: 0.2957 - accuracy: 0.8898 - val_loss: 0.3736 - val_accuracy: 0.8655\n",
            "Epoch 8/20\n",
            "938/938 [==============================] - 2s 2ms/step - loss: 0.2854 - accuracy: 0.8927 - val_loss: 0.3592 - val_accuracy: 0.8710\n",
            "Epoch 9/20\n",
            "938/938 [==============================] - 2s 2ms/step - loss: 0.2790 - accuracy: 0.8963 - val_loss: 0.3479 - val_accuracy: 0.8748\n",
            "Epoch 10/20\n",
            "938/938 [==============================] - 2s 2ms/step - loss: 0.2697 - accuracy: 0.8986 - val_loss: 0.3550 - val_accuracy: 0.8755\n",
            "Epoch 11/20\n",
            "938/938 [==============================] - 2s 2ms/step - loss: 0.2626 - accuracy: 0.9009 - val_loss: 0.3823 - val_accuracy: 0.8616\n",
            "Epoch 12/20\n",
            "938/938 [==============================] - 2s 2ms/step - loss: 0.2567 - accuracy: 0.9033 - val_loss: 0.3659 - val_accuracy: 0.8696\n",
            "Epoch 13/20\n",
            "938/938 [==============================] - 2s 2ms/step - loss: 0.2501 - accuracy: 0.9046 - val_loss: 0.3412 - val_accuracy: 0.8808\n",
            "Epoch 14/20\n",
            "938/938 [==============================] - 2s 2ms/step - loss: 0.2451 - accuracy: 0.9072 - val_loss: 0.3454 - val_accuracy: 0.8830\n",
            "Epoch 15/20\n",
            "938/938 [==============================] - 2s 2ms/step - loss: 0.2382 - accuracy: 0.9091 - val_loss: 0.3520 - val_accuracy: 0.8809\n",
            "Epoch 16/20\n",
            "938/938 [==============================] - 2s 2ms/step - loss: 0.2341 - accuracy: 0.9107 - val_loss: 0.3516 - val_accuracy: 0.8819\n",
            "Epoch 17/20\n",
            "938/938 [==============================] - 2s 2ms/step - loss: 0.2311 - accuracy: 0.9117 - val_loss: 0.3642 - val_accuracy: 0.8755\n",
            "Epoch 18/20\n",
            "938/938 [==============================] - 2s 2ms/step - loss: 0.2272 - accuracy: 0.9140 - val_loss: 0.3560 - val_accuracy: 0.8798\n",
            "Epoch 19/20\n",
            "938/938 [==============================] - 2s 2ms/step - loss: 0.2199 - accuracy: 0.9159 - val_loss: 0.3613 - val_accuracy: 0.8776\n",
            "Epoch 20/20\n",
            "938/938 [==============================] - 2s 2ms/step - loss: 0.2178 - accuracy: 0.9161 - val_loss: 0.3712 - val_accuracy: 0.8759\n"
          ]
        }
      ]
    },
    {
      "cell_type": "code",
      "metadata": {
        "colab": {
          "base_uri": "https://localhost:8080/",
          "height": 266
        },
        "id": "mr7PF7MVmWZK",
        "outputId": "83340da1-ff02-4dcc-a3eb-dd8814be37b2"
      },
      "source": [
        "plt.plot(r.history['accuracy'], label=['acc'])\n",
        "plt.plot(r.history['val_accuracy'], label=['val_acc']);\n",
        "plt.legend();"
      ],
      "execution_count": 60,
      "outputs": [
        {
          "output_type": "display_data",
          "data": {
            "image/png": "[encoded data removed]",
            "text/plain": [
              "<Figure size 432x288 with 1 Axes>"
            ]
          },
          "metadata": {
            "needs_background": "light"
          }
        }
      ]
    },
    {
      "cell_type": "markdown",
      "metadata": {
        "id": "v8y2ssP1pMQ_"
      },
      "source": [
        "**We can see that our model have overfitting issue as Accuracy of train data is greater than Accuracy of Test data.**"
      ]
    },
    {
      "cell_type": "code",
      "metadata": {
        "colab": {
          "base_uri": "https://localhost:8080/",
          "height": 265
        },
        "id": "elyJV0UZnvKT",
        "outputId": "a59fda51-7791-4b1c-c99a-9c780a476061"
      },
      "source": [
        "plt.plot(r.history['loss'], label='loss')\n",
        "plt.plot(r.history['val_loss'], label='val_loss')\n",
        "plt.legend();"
      ],
      "execution_count": 61,
      "outputs": [
        {
          "output_type": "display_data",
          "data": {
            "image/png": "[encoded data removed]",
            "text/plain": [
              "<Figure size 432x288 with 1 Axes>"
            ]
          },
          "metadata": {
            "needs_background": "light"
          }
        }
      ]
    },
    {
      "cell_type": "code",
      "metadata": {
        "colab": {
          "base_uri": "https://localhost:8080/"
        },
        "id": "ytyKxpSOpu4F",
        "outputId": "55098a6c-f9ec-45b8-ad6d-faca17c6c703"
      },
      "source": [
        "_, acc = model.evaluate(xtest,\n",
        "               ytest,\n",
        "               batch_size=64)\n",
        "print(\"\\nTest accuracy: %.1f%%\" % (100.0 * acc))"
      ],
      "execution_count": 63,
      "outputs": [
        {
          "output_type": "stream",
          "name": "stdout",
          "text": [
            "157/157 [==============================] - 0s 868us/step - loss: 0.3712 - accuracy: 0.8759\n",
            "\n",
            "Test accuracy: 87.6%\n"
          ]
        }
      ]
    },
    {
      "cell_type": "code",
      "metadata": {
        "id": "ga-knTYnrtTX"
      },
      "source": [
        ""
      ],
      "execution_count": null,
      "outputs": []
    }
  ]
}